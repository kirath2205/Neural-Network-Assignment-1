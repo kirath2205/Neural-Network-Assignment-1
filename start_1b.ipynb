{
  "nbformat": 4,
  "nbformat_minor": 0,
  "metadata": {
    "colab": {
      "name": "start_1b.ipynb",
      "provenance": [],
      "collapsed_sections": [],
      "include_colab_link": true
    },
    "kernelspec": {
      "display_name": "Python 3",
      "language": "python",
      "name": "python3"
    },
    "language_info": {
      "codemirror_mode": {
        "name": "ipython",
        "version": 3
      },
      "file_extension": ".py",
      "mimetype": "text/x-python",
      "name": "python",
      "nbconvert_exporter": "python",
      "pygments_lexer": "ipython3",
      "version": "3.7.9"
    }
  },
  "cells": [
    {
      "cell_type": "markdown",
      "metadata": {
        "id": "view-in-github",
        "colab_type": "text"
      },
      "source": [
        "<a href=\"https://colab.research.google.com/github/kirath2205/Neural-Network-Assignment-1/blob/main/start_1b.ipynb\" target=\"_parent\"><img src=\"https://colab.research.google.com/assets/colab-badge.svg\" alt=\"Open In Colab\"/></a>"
      ]
    },
    {
      "cell_type": "code",
      "metadata": {
        "id": "-VacDzrT5mo5"
      },
      "source": [
        "# Setting the seed here is sufficient. \n",
        "# If you don't plan to use these starter code, make sure you add this cell.\n",
        "\n",
        "SEED = 42\n",
        "\n",
        "import os\n",
        "os.environ['TF_CUDNN_DETERMINISTIC'] = '1'\n",
        "\n",
        "import random \n",
        "random.seed(SEED)\n",
        "\n",
        "import numpy as np\n",
        "np.random.seed(SEED)\n",
        "\n",
        "import tensorflow as tf\n",
        "tf.random.set_seed(SEED)\n",
        "\n",
        "import math\n",
        "import matplotlib.pyplot as plt"
      ],
      "execution_count": 2,
      "outputs": []
    },
    {
      "cell_type": "code",
      "metadata": {
        "id": "NujeG24-5R6c"
      },
      "source": [
        "from tensorflow import keras\n",
        "from tensorflow.keras import layers\n",
        "\n",
        "from tensorflow.keras.layers import Normalization, StringLookup, IntegerLookup , Embedding , Flatten"
      ],
      "execution_count": 3,
      "outputs": []
    },
    {
      "cell_type": "code",
      "metadata": {
        "colab": {
          "base_uri": "https://localhost:8080/",
          "height": 343
        },
        "id": "5cn1IOWBmgB0",
        "outputId": "3043b826-8a58-45f1-a831-25e60018a77e"
      },
      "source": [
        "import pandas as pd\n",
        "df = pd.read_csv('hdb_price_prediction.csv')\n",
        "df.head()"
      ],
      "execution_count": 4,
      "outputs": [
        {
          "output_type": "execute_result",
          "data": {
            "text/html": [
              "<div>\n",
              "<style scoped>\n",
              "    .dataframe tbody tr th:only-of-type {\n",
              "        vertical-align: middle;\n",
              "    }\n",
              "\n",
              "    .dataframe tbody tr th {\n",
              "        vertical-align: top;\n",
              "    }\n",
              "\n",
              "    .dataframe thead th {\n",
              "        text-align: right;\n",
              "    }\n",
              "</style>\n",
              "<table border=\"1\" class=\"dataframe\">\n",
              "  <thead>\n",
              "    <tr style=\"text-align: right;\">\n",
              "      <th></th>\n",
              "      <th>month</th>\n",
              "      <th>year</th>\n",
              "      <th>full_address</th>\n",
              "      <th>nearest_stn</th>\n",
              "      <th>dist_to_nearest_stn</th>\n",
              "      <th>dist_to_dhoby</th>\n",
              "      <th>degree_centrality</th>\n",
              "      <th>eigenvector_centrality</th>\n",
              "      <th>flat_model_type</th>\n",
              "      <th>remaining_lease_years</th>\n",
              "      <th>floor_area_sqm</th>\n",
              "      <th>storey_range</th>\n",
              "      <th>resale_price</th>\n",
              "    </tr>\n",
              "  </thead>\n",
              "  <tbody>\n",
              "    <tr>\n",
              "      <th>0</th>\n",
              "      <td>1</td>\n",
              "      <td>2017</td>\n",
              "      <td>406 ANG MO KIO AVENUE 10</td>\n",
              "      <td>Ang Mo Kio</td>\n",
              "      <td>1.007264</td>\n",
              "      <td>7.006044</td>\n",
              "      <td>0.016807</td>\n",
              "      <td>0.006243</td>\n",
              "      <td>2 ROOM, Improved</td>\n",
              "      <td>61.333333</td>\n",
              "      <td>44.0</td>\n",
              "      <td>10 TO 12</td>\n",
              "      <td>232000.0</td>\n",
              "    </tr>\n",
              "    <tr>\n",
              "      <th>1</th>\n",
              "      <td>1</td>\n",
              "      <td>2017</td>\n",
              "      <td>108 ANG MO KIO AVENUE 4</td>\n",
              "      <td>Ang Mo Kio</td>\n",
              "      <td>1.271389</td>\n",
              "      <td>7.983837</td>\n",
              "      <td>0.016807</td>\n",
              "      <td>0.006243</td>\n",
              "      <td>3 ROOM, New Generation</td>\n",
              "      <td>60.583333</td>\n",
              "      <td>67.0</td>\n",
              "      <td>01 TO 03</td>\n",
              "      <td>250000.0</td>\n",
              "    </tr>\n",
              "    <tr>\n",
              "      <th>2</th>\n",
              "      <td>1</td>\n",
              "      <td>2017</td>\n",
              "      <td>602 ANG MO KIO AVENUE 5</td>\n",
              "      <td>Yio Chu Kang</td>\n",
              "      <td>1.069743</td>\n",
              "      <td>9.090700</td>\n",
              "      <td>0.016807</td>\n",
              "      <td>0.002459</td>\n",
              "      <td>3 ROOM, New Generation</td>\n",
              "      <td>62.416667</td>\n",
              "      <td>67.0</td>\n",
              "      <td>01 TO 03</td>\n",
              "      <td>262000.0</td>\n",
              "    </tr>\n",
              "    <tr>\n",
              "      <th>3</th>\n",
              "      <td>1</td>\n",
              "      <td>2017</td>\n",
              "      <td>465 ANG MO KIO AVENUE 10</td>\n",
              "      <td>Ang Mo Kio</td>\n",
              "      <td>0.946890</td>\n",
              "      <td>7.519889</td>\n",
              "      <td>0.016807</td>\n",
              "      <td>0.006243</td>\n",
              "      <td>3 ROOM, New Generation</td>\n",
              "      <td>62.083333</td>\n",
              "      <td>68.0</td>\n",
              "      <td>04 TO 06</td>\n",
              "      <td>265000.0</td>\n",
              "    </tr>\n",
              "    <tr>\n",
              "      <th>4</th>\n",
              "      <td>1</td>\n",
              "      <td>2017</td>\n",
              "      <td>601 ANG MO KIO AVENUE 5</td>\n",
              "      <td>Yio Chu Kang</td>\n",
              "      <td>1.092551</td>\n",
              "      <td>9.130489</td>\n",
              "      <td>0.016807</td>\n",
              "      <td>0.002459</td>\n",
              "      <td>3 ROOM, New Generation</td>\n",
              "      <td>62.416667</td>\n",
              "      <td>67.0</td>\n",
              "      <td>01 TO 03</td>\n",
              "      <td>265000.0</td>\n",
              "    </tr>\n",
              "  </tbody>\n",
              "</table>\n",
              "</div>"
            ],
            "text/plain": [
              "   month  year  ... storey_range resale_price\n",
              "0      1  2017  ...     10 TO 12     232000.0\n",
              "1      1  2017  ...     01 TO 03     250000.0\n",
              "2      1  2017  ...     01 TO 03     262000.0\n",
              "3      1  2017  ...     04 TO 06     265000.0\n",
              "4      1  2017  ...     01 TO 03     265000.0\n",
              "\n",
              "[5 rows x 13 columns]"
            ]
          },
          "metadata": {},
          "execution_count": 4
        }
      ]
    },
    {
      "cell_type": "markdown",
      "metadata": {
        "id": "3wMK5uRnS0Fz"
      },
      "source": [
        "#Question 1\n"
      ]
    },
    {
      "cell_type": "code",
      "metadata": {
        "id": "dceWqrra5R4d"
      },
      "source": [
        "def dataframe_to_dataset(dataframe):\n",
        "    dataframe = dataframe.copy()\n",
        "    labels = dataframe.pop(\"resale_price\")\n",
        "    ds = tf.data.Dataset.from_tensor_slices((dict(dataframe), labels))\n",
        "    ds = ds.shuffle(buffer_size=len(dataframe))\n",
        "    return ds\n",
        "\n",
        "\n",
        "def encode_numerical_feature(feature, name, dataset):\n",
        "    # Create a Normalization layer for our feature\n",
        "    normalizer = Normalization()\n",
        "\n",
        "    # Prepare a Dataset that only yields our feature\n",
        "    feature_ds = dataset.map(lambda x, y: x[name])\n",
        "    feature_ds = feature_ds.map(lambda x: tf.expand_dims(x, -1))\n",
        "\n",
        "    # Learn the statistics of the data\n",
        "    normalizer.adapt(feature_ds)\n",
        "\n",
        "    # Normalize the input feature\n",
        "    encoded_feature = normalizer(feature)\n",
        "    return encoded_feature\n",
        "\n",
        "\n",
        "def encode_categorical_feature(feature, name, dataset, is_string):\n",
        "    lookup_class = StringLookup if is_string else IntegerLookup\n",
        "    # Create a lookup layer which will turn strings into integer indices\n",
        "    lookup = lookup_class(output_mode=\"one_hot\") # NOTE: as mentioned in the question paper, this actually does one-hot encoding. You could replace 'binary' with 'one_hot' if you wish to.\n",
        "\n",
        "    # Prepare a Dataset that only yields our feature\n",
        "    feature_ds = dataset.map(lambda x, y: x[name])\n",
        "    feature_ds = feature_ds.map(lambda x: tf.expand_dims(x, -1))\n",
        "\n",
        "    # Learn the set of possible string values and assign them a fixed integer index\n",
        "    lookup.adapt(feature_ds)\n",
        "\n",
        "    # Turn the string input into integer indices\n",
        "    encoded_feature = lookup(feature)\n",
        "    return encoded_feature\n"
      ],
      "execution_count": 5,
      "outputs": []
    },
    {
      "cell_type": "code",
      "metadata": {
        "id": "TavIPVRM5R2Y"
      },
      "source": [
        "\n",
        "#Split data\n",
        "train_dataframe = df[df['year'] <= 2020] # 0.8393471285568813\n",
        "val_dataframe = df[df['year'] > 2020]\n",
        "\n",
        "train_ds = dataframe_to_dataset(train_dataframe)\n",
        "val_ds = dataframe_to_dataset(val_dataframe)\n",
        "\n",
        "train_ds = train_ds.batch(128)\n",
        "val_ds = val_ds.batch(128)"
      ],
      "execution_count": 6,
      "outputs": []
    },
    {
      "cell_type": "code",
      "metadata": {
        "id": "fdPE564ECZe5"
      },
      "source": [
        "# Categorical features encoded as integers\n",
        "month = keras.Input(shape=(1,), name=\"month\", dtype=\"int64\")\n",
        "month_encoded = encode_categorical_feature(month, \"month\", train_ds, False)\n",
        "\n",
        "# Categorical feature encoded as string\n",
        "\n",
        "storey_range = keras.Input(shape=(1,), name=\"storey_range\", dtype=\"string\")\n",
        "storey_range_encoded = encode_categorical_feature(storey_range, \"storey_range\", train_ds, True)\n",
        "\n",
        "flat_model_type = keras.Input(shape=(1,), name=\"flat_model_type\", dtype=\"string\")\n",
        "flat_model_type_encoded = encode_categorical_feature(flat_model_type, \"flat_model_type\", train_ds, True)\n",
        "\n",
        "# Numerical features\n",
        "floor_area_sqm = keras.Input(shape=(1,), name=\"floor_area_sqm\")\n",
        "floor_area_sqm_encoded = encode_numerical_feature(floor_area_sqm, \"floor_area_sqm\", train_ds)\n",
        "\n",
        "remaining_lease_years = keras.Input(shape=(1,), name=\"remaining_lease_years\")\n",
        "remaining_lease_years_encoded = encode_numerical_feature(remaining_lease_years, \"remaining_lease_years\", train_ds)\n",
        "\n",
        "degree_centrality = keras.Input(shape=(1,), name=\"degree_centrality\")\n",
        "degree_centrality_encoded = encode_numerical_feature(degree_centrality, \"degree_centrality\", train_ds)\n",
        "\n",
        "eigenvector_centrality = keras.Input(shape=(1,), name=\"eigenvector_centrality\")\n",
        "eigenvector_centrality_encoded = encode_numerical_feature(eigenvector_centrality, \"eigenvector_centrality\", train_ds)\n",
        "\n",
        "dist_to_nearest_stn = keras.Input(shape=(1,), name=\"dist_to_nearest_stn\")\n",
        "dist_to_nearest_stn_encoded = encode_numerical_feature(dist_to_nearest_stn, \"dist_to_nearest_stn\", train_ds)\n",
        "\n",
        "dist_to_dhoby = keras.Input(shape=(1,), name=\"dist_to_dhoby\")\n",
        "dist_to_dhoby_encoded = encode_numerical_feature(dist_to_dhoby, \"dist_to_dhoby\", train_ds)\n",
        "\n",
        "all_features = layers.concatenate(\n",
        "    [\n",
        "        month_encoded,\n",
        "        flat_model_type_encoded,\n",
        "        storey_range_encoded,\n",
        "        floor_area_sqm_encoded,\n",
        "        remaining_lease_years_encoded,\n",
        "        degree_centrality_encoded,\n",
        "        eigenvector_centrality_encoded,\n",
        "        dist_to_nearest_stn_encoded,\n",
        "        dist_to_dhoby_encoded\n",
        "    ] \n",
        ")"
      ],
      "execution_count": 8,
      "outputs": []
    },
    {
      "cell_type": "code",
      "metadata": {
        "id": "pUwtLajbCs3i"
      },
      "source": [
        "all_inputs = [\n",
        "        month,\n",
        "        flat_model_type,\n",
        "        storey_range,\n",
        "        floor_area_sqm,\n",
        "        remaining_lease_years,\n",
        "        degree_centrality,\n",
        "        eigenvector_centrality,\n",
        "        dist_to_nearest_stn,\n",
        "        dist_to_dhoby\n",
        "    ]"
      ],
      "execution_count": 9,
      "outputs": []
    },
    {
      "cell_type": "code",
      "metadata": {
        "id": "PbXfUtd6CzN6"
      },
      "source": [
        "from keras import backend as K\n",
        "\n",
        "def r2_score(y_true, y_pred):\n",
        "    SS_res =  K.sum(K.square( y_true-y_pred ))\n",
        "    SS_tot = K.sum(K.square( y_true - K.mean(y_true) ) )\n",
        "    return ( 1 - SS_res/(SS_tot + K.epsilon()) )"
      ],
      "execution_count": 10,
      "outputs": []
    },
    {
      "cell_type": "code",
      "metadata": {
        "id": "1CBxRUjHC3W7"
      },
      "source": [
        "# feedforward network with one hidden layer\n",
        "x = layers.Dense(10, activation=\"relu\")(all_features)\n",
        "output = layers.Dense(1, activation=\"linear\")(x)\n",
        "model = keras.Model(all_inputs, output)\n",
        "keras.utils.plot_model(model, show_shapes=True, rankdir=\"LR\")"
      ],
      "execution_count": null,
      "outputs": []
    },
    {
      "cell_type": "code",
      "metadata": {
        "id": "rhL8SsTVC6YC"
      },
      "source": [
        "checkpoint_filepath = '/content/checkpoint'\n",
        "model_checkpoint_callback = tf.keras.callbacks.ModelCheckpoint(\n",
        "    filepath=checkpoint_filepath,\n",
        "    save_weights_only=True,\n",
        "    monitor='val_loss',\n",
        "    mode='min',\n",
        "    save_best_only=True)"
      ],
      "execution_count": 11,
      "outputs": []
    },
    {
      "cell_type": "code",
      "metadata": {
        "id": "GBzPQ6tOC9uV"
      },
      "source": [
        "model.compile(loss=\"mse\", optimizer=tf.keras.optimizers.Adam(learning_rate=0.05), metrics=[r2_score])\n",
        "model.summary()"
      ],
      "execution_count": null,
      "outputs": []
    },
    {
      "cell_type": "code",
      "metadata": {
        "id": "2yWyaBKiDA6L"
      },
      "source": [
        "history = model.fit(train_ds, epochs=100, validation_data=val_ds, callbacks=[model_checkpoint_callback])"
      ],
      "execution_count": null,
      "outputs": []
    },
    {
      "cell_type": "code",
      "metadata": {
        "id": "mkmiLPXQDIs5"
      },
      "source": [
        "history.history['root_mean_squared_error-question1']=[]\n",
        "history.history['val_root_mean_squared_error-question1']=[]\n",
        "\n",
        "for i in range(len(history.history['loss'])):\n",
        "    history.history['root_mean_squared_error-question1'].append(math.sqrt(history.history['loss'][i]))\n",
        "\n",
        "for i in range(len(history.history['val_loss'])):\n",
        "    history.history['val_root_mean_squared_error-question1'].append(math.sqrt(history.history['val_loss'][i]))\n",
        "\n",
        "plt.plot(history.history['root_mean_squared_error-question1'])\n",
        "plt.plot(history.history['val_root_mean_squared_error-question1'])\n",
        "plt.title('RMSE vs epoch')\n",
        "plt.ylabel('RMSE')\n",
        "plt.xlabel('epoch')\n",
        "plt.legend(['train', 'test'], loc='upper left')\n",
        "plt.show()"
      ],
      "execution_count": null,
      "outputs": []
    },
    {
      "cell_type": "code",
      "metadata": {
        "id": "v-aV2zrHDORS"
      },
      "source": [
        "min_loss = float('inf')\n",
        "best_r2_score = float('-inf')\n",
        "epoch_of_min_loss=-1\n",
        "for epoch in range(100):\n",
        "  if(history.history['val_root_mean_squared_error'][epoch]<min_loss):\n",
        "    min_loss = history.history['val_root_mean_squared_error'][epoch]\n",
        "    epoch_of_min_loss = epoch\n",
        "    best_r2_score = history.history['r2_score'][epoch]"
      ],
      "execution_count": null,
      "outputs": []
    },
    {
      "cell_type": "code",
      "metadata": {
        "id": "xKDALosNDRch"
      },
      "source": [
        "model.load_weights(checkpoint_filepath)\n",
        "test_predictions = model.predict(val_ds)"
      ],
      "execution_count": null,
      "outputs": []
    },
    {
      "cell_type": "code",
      "metadata": {
        "id": "Q6bvnzrtDUr9"
      },
      "source": [
        "test_predictions_batch_128 = test_predictions[:128]\n",
        "true_values = np.concatenate([y for x, y in val_ds], axis=0)\n",
        "true_values_batch_128 = true_values[:128]\n",
        "plt.scatter(true_values_batch_128, test_predictions_batch_128)"
      ],
      "execution_count": null,
      "outputs": []
    },
    {
      "cell_type": "code",
      "metadata": {
        "colab": {
          "base_uri": "https://localhost:8080/"
        },
        "id": "O6h8KGnTGv83",
        "outputId": "9aef77a2-fba0-4025-97bc-92d32e529661"
      },
      "source": [
        "print('Minimum test rmse score ', min_loss)\n",
        "print('best r2 score ',best_r2_score)"
      ],
      "execution_count": null,
      "outputs": [
        {
          "output_type": "stream",
          "name": "stdout",
          "text": [
            "Minimum test rmse score  64934.946893025175\n",
            "best r2 score  0.8815845847129822\n"
          ]
        }
      ]
    },
    {
      "cell_type": "markdown",
      "metadata": {
        "id": "ig2ZrsJxDiZR"
      },
      "source": [
        "#Question 2"
      ]
    },
    {
      "cell_type": "code",
      "metadata": {
        "id": "7UbGI3_FSIjz"
      },
      "source": [
        "def dataframe_to_dataset(dataframe):\n",
        "    dataframe = dataframe.copy()\n",
        "    labels = dataframe.pop(\"resale_price\")\n",
        "    ds = tf.data.Dataset.from_tensor_slices((dict(dataframe), labels))\n",
        "    ds = ds.shuffle(buffer_size=len(dataframe))\n",
        "    return ds\n",
        "\n",
        "\n",
        "def encode_numerical_feature(feature, name, dataset):\n",
        "    # Create a Normalization layer for our feature\n",
        "    normalizer = Normalization()\n",
        "\n",
        "    # Prepare a Dataset that only yields our feature\n",
        "    feature_ds = dataset.map(lambda x, y: x[name])\n",
        "    feature_ds = feature_ds.map(lambda x: tf.expand_dims(x, -1))\n",
        "\n",
        "    # Learn the statistics of the data\n",
        "    normalizer.adapt(feature_ds)\n",
        "\n",
        "    # Normalize the input feature\n",
        "    encoded_feature = normalizer(feature)\n",
        "    return encoded_feature\n",
        "\n",
        "\n",
        "def encode_categorical_feature(feature, name, dataset, is_string):\n",
        "    lookup_class = StringLookup if is_string else IntegerLookup\n",
        "    # Create a lookup layer which will turn strings into integer indices\n",
        "    lookup = lookup_class(output_mode=\"binary\") # NOTE: as mentioned in the question paper, this actually does one-hot encoding. You could replace 'binary' with 'one_hot' if you wish to.\n",
        "\n",
        "    # Prepare a Dataset that only yields our feature\n",
        "    feature_ds = dataset.map(lambda x, y: x[name])\n",
        "    feature_ds = feature_ds.map(lambda x: tf.expand_dims(x, -1))\n",
        "\n",
        "    # Learn the set of possible string values and assign them a fixed integer index\n",
        "    lookup.adapt(feature_ds)\n",
        "\n",
        "    # Turn the string input into integer indices\n",
        "    encoded_feature = lookup(feature)\n",
        "    return encoded_feature"
      ],
      "execution_count": 12,
      "outputs": []
    },
    {
      "cell_type": "code",
      "metadata": {
        "id": "UDe6lIE8SKS5"
      },
      "source": [
        "#Split data\n",
        "train_dataframe = df[df['year'] <= 2020] # 0.8393471285568813\n",
        "val_dataframe = df[df['year'] > 2020]\n",
        "\n",
        "train_ds = dataframe_to_dataset(train_dataframe)\n",
        "val_ds = dataframe_to_dataset(val_dataframe)\n",
        "\n",
        "train_ds = train_ds.batch(128)\n",
        "val_ds = val_ds.batch(128)"
      ],
      "execution_count": 13,
      "outputs": []
    },
    {
      "cell_type": "code",
      "metadata": {
        "id": "2q1ikDawxWzr"
      },
      "source": [
        "# Categorical features encoded as integers\n",
        "month = keras.Input(shape=(1,), name=\"month\", dtype=\"int64\")\n",
        "month_encoded = encode_categorical_feature(month, \"month\", train_ds, False)\n",
        "month_output_dim = (math.floor(month_encoded.shape[1]/2))\n",
        "month_encoded_embedding = tf.keras.layers.Embedding(input_dim = month_encoded.shape[1] , output_dim = month_output_dim)(month_encoded)\n",
        "month_encoded_embedding_flatten = Flatten()(month_encoded_embedding)\n",
        "\n",
        "# Categorical feature encoded as string\n",
        "\n",
        "storey_range = keras.Input(shape=(1,), name=\"storey_range\", dtype=\"string\")\n",
        "storey_range_encoded = encode_categorical_feature(storey_range, \"storey_range\", train_ds, True)\n",
        "storey_range_output_dim = (math.floor(storey_range_encoded.shape[1]/2))\n",
        "storey_range_encoded_embedding = tf.keras.layers.Embedding(input_dim = storey_range_encoded.shape[1] , output_dim = storey_range_output_dim)(storey_range_encoded)\n",
        "storey_range_encoded_embedding_flatten = Flatten()(storey_range_encoded_embedding)\n",
        "\n",
        "flat_model_type = keras.Input(shape=(1,), name=\"flat_model_type\", dtype=\"string\")\n",
        "flat_model_type_encoded = encode_categorical_feature(flat_model_type, \"flat_model_type\", train_ds, True)\n",
        "flat_model_type_output_dim = (math.floor(flat_model_type_encoded.shape[1]/2))\n",
        "flat_model_type_encoded_embedding = tf.keras.layers.Embedding(input_dim = flat_model_type_encoded.shape[1] , output_dim = flat_model_type_output_dim)(flat_model_type_encoded)\n",
        "flat_model_type_encoded_embedding_flatten = Flatten()(flat_model_type_encoded_embedding)\n",
        "\n",
        "# Numerical features\n",
        "floor_area_sqm = keras.Input(shape=(1,), name=\"floor_area_sqm\")\n",
        "floor_area_sqm_encoded = encode_numerical_feature(floor_area_sqm, \"floor_area_sqm\", train_ds)\n",
        "\n",
        "remaining_lease_years = keras.Input(shape=(1,), name=\"remaining_lease_years\")\n",
        "remaining_lease_years_encoded = encode_numerical_feature(remaining_lease_years, \"remaining_lease_years\", train_ds)\n",
        "\n",
        "degree_centrality = keras.Input(shape=(1,), name=\"degree_centrality\")\n",
        "degree_centrality_encoded = encode_numerical_feature(degree_centrality, \"degree_centrality\", train_ds)\n",
        "\n",
        "eigenvector_centrality = keras.Input(shape=(1,), name=\"eigenvector_centrality\")\n",
        "eigenvector_centrality_encoded = encode_numerical_feature(eigenvector_centrality, \"eigenvector_centrality\", train_ds)\n",
        "\n",
        "dist_to_nearest_stn = keras.Input(shape=(1,), name=\"dist_to_nearest_stn\")\n",
        "dist_to_nearest_stn_encoded = encode_numerical_feature(dist_to_nearest_stn, \"dist_to_nearest_stn\", train_ds)\n",
        "\n",
        "dist_to_dhoby = keras.Input(shape=(1,), name=\"dist_to_dhoby\")\n",
        "dist_to_dhoby_encoded = encode_numerical_feature(dist_to_dhoby, \"dist_to_dhoby\", train_ds)\n",
        "\n",
        "all_features = layers.concatenate(\n",
        "    [\n",
        "        month_encoded_embedding_flatten,\n",
        "        flat_model_type_encoded_embedding_flatten,\n",
        "        storey_range_encoded_embedding_flatten,\n",
        "        floor_area_sqm_encoded,\n",
        "        remaining_lease_years_encoded,\n",
        "        degree_centrality_encoded,\n",
        "        eigenvector_centrality_encoded,\n",
        "        dist_to_nearest_stn_encoded,\n",
        "        dist_to_dhoby_encoded\n",
        "    ] \n",
        ")"
      ],
      "execution_count": 14,
      "outputs": []
    },
    {
      "cell_type": "code",
      "metadata": {
        "id": "LHLgjU6aUh2m"
      },
      "source": [
        "all_inputs = [\n",
        "        month,\n",
        "        flat_model_type,\n",
        "        storey_range,\n",
        "        floor_area_sqm,\n",
        "        remaining_lease_years,\n",
        "        degree_centrality,\n",
        "        eigenvector_centrality,\n",
        "        dist_to_nearest_stn,\n",
        "        dist_to_dhoby\n",
        "    ]\n"
      ],
      "execution_count": 15,
      "outputs": []
    },
    {
      "cell_type": "code",
      "metadata": {
        "id": "4ztxDbrrX0TG"
      },
      "source": [
        ""
      ],
      "execution_count": 10,
      "outputs": []
    },
    {
      "cell_type": "code",
      "metadata": {
        "id": "8ZmsfzCExWzs"
      },
      "source": [
        "# feedforward network with one hidden layer\n",
        "x = layers.Dense(10, activation=\"relu\")(all_features)\n",
        "output = layers.Dense(1, activation=\"linear\")(x)\n",
        "model = keras.Model(all_inputs, output)\n",
        "keras.utils.plot_model(model, show_shapes=True, rankdir=\"LR\")"
      ],
      "execution_count": null,
      "outputs": []
    },
    {
      "cell_type": "code",
      "metadata": {
        "id": "ybLN7igthZPV"
      },
      "source": [
        "checkpoint_filepath = '/content/checkpoint'\n",
        "model_checkpoint_callback = tf.keras.callbacks.ModelCheckpoint(\n",
        "    filepath=checkpoint_filepath,\n",
        "    save_weights_only=True,\n",
        "    monitor='val_loss',\n",
        "    mode='min',\n",
        "    save_best_only=True)"
      ],
      "execution_count": 12,
      "outputs": []
    },
    {
      "cell_type": "code",
      "metadata": {
        "id": "tw-TCqDHxWzs"
      },
      "source": [
        "model.compile(loss=\"mse\", optimizer=tf.keras.optimizers.Adam(learning_rate=0.05), metrics=[r2_score])\n",
        "model.summary()"
      ],
      "execution_count": null,
      "outputs": []
    },
    {
      "cell_type": "code",
      "metadata": {
        "id": "nzQbowGAMB-n"
      },
      "source": [
        "history = model.fit(train_ds, epochs=100, validation_data=val_ds, callbacks=[model_checkpoint_callback])"
      ],
      "execution_count": null,
      "outputs": []
    },
    {
      "cell_type": "code",
      "metadata": {
        "id": "qvwc90pZOEFF",
        "colab": {
          "base_uri": "https://localhost:8080/",
          "height": 295
        },
        "outputId": "2a963e14-f986-4936-d786-1cad386af559"
      },
      "source": [
        "history.history['root_mean_squared_error-question2']=[]\n",
        "history.history['val_root_mean_squared_error-question2']=[]\n",
        "\n",
        "for i in range(len(history.history['loss'])):\n",
        "    history.history['root_mean_squared_error-question2'].append(math.sqrt(history.history['loss'][i]))\n",
        "\n",
        "for i in range(len(history.history['val_loss'])):\n",
        "    history.history['val_root_mean_squared_error-question2'].append(math.sqrt(history.history['val_loss'][i]))\n",
        "\n",
        "plt.plot(history.history['root_mean_squared_error-question2'])\n",
        "plt.plot(history.history['val_root_mean_squared_error-question2'])\n",
        "plt.title('RMSE vs epoch')\n",
        "plt.ylabel('RMSE')\n",
        "plt.xlabel('epoch')\n",
        "plt.legend(['train', 'test'], loc='upper left')\n",
        "plt.show()"
      ],
      "execution_count": 17,
      "outputs": [
        {
          "output_type": "display_data",
          "data": {
            "image/png": "[encoded data removed]",
            "text/plain": [
              "<Figure size 432x288 with 1 Axes>"
            ]
          },
          "metadata": {
            "needs_background": "light"
          }
        }
      ]
    },
    {
      "cell_type": "code",
      "metadata": {
        "id": "u3Jh5iiwVMYt"
      },
      "source": [
        "min_loss=float('inf')\n",
        "best_r2_score=float('-inf')\n",
        "epoch_of_min_loss=-1\n",
        "for epoch in range(100):\n",
        "  if(history.history['val_root_mean_squared_error-question2'][epoch]<min_loss):\n",
        "    min_loss = history.history['val_root_mean_squared_error-question2'][epoch]\n",
        "    epoch_of_min_loss = epoch\n",
        "    best_r2_score = history.history['val_r2_score'][epoch]"
      ],
      "execution_count": 18,
      "outputs": []
    },
    {
      "cell_type": "code",
      "metadata": {
        "colab": {
          "base_uri": "https://localhost:8080/"
        },
        "id": "PBNn4MBGgoAh",
        "outputId": "a9bb62c3-e4cc-4da4-a161-edc2b80e323d"
      },
      "source": [
        "model.load_weights(checkpoint_filepath)\n",
        "test_predictions = model.predict(val_ds)"
      ],
      "execution_count": 19,
      "outputs": [
        {
          "output_type": "stream",
          "name": "stderr",
          "text": [
            "/usr/local/lib/python3.7/dist-packages/keras/engine/functional.py:585: UserWarning: Input dict contained keys ['year', 'full_address', 'nearest_stn'] which did not match any model input. They will be ignored by the model.\n",
            "  [n for n in tensors.keys() if n not in ref_input_names])\n"
          ]
        }
      ]
    },
    {
      "cell_type": "code",
      "metadata": {
        "colab": {
          "base_uri": "https://localhost:8080/",
          "height": 295
        },
        "id": "FAkcguHxgpok",
        "outputId": "5bd1229c-8d38-4dd2-ee32-cf9fd87487a1"
      },
      "source": [
        "test_predictions_batch_128 = test_predictions[:128]\n",
        "true_values = np.concatenate([y for x, y in val_ds], axis=0)\n",
        "true_values_batch_128 = true_values[:128]\n",
        "plt.scatter(true_values_batch_128, test_predictions_batch_128)"
      ],
      "execution_count": 20,
      "outputs": [
        {
          "output_type": "execute_result",
          "data": {
            "text/plain": [
              "<matplotlib.collections.PathCollection at 0x7fd1c3e1b710>"
            ]
          },
          "metadata": {},
          "execution_count": 20
        },
        {
          "output_type": "display_data",
          "data": {
            "image/png": "[encoded data removed]",
            "text/plain": [
              "<Figure size 432x288 with 1 Axes>"
            ]
          },
          "metadata": {
            "needs_background": "light"
          }
        }
      ]
    },
    {
      "cell_type": "code",
      "metadata": {
        "colab": {
          "base_uri": "https://localhost:8080/"
        },
        "id": "vwgYUNEBkDC2",
        "outputId": "accf9052-f23d-4bb7-bc77-732fe0dea6fd"
      },
      "source": [
        "print('Minimum test rmse score ', min_loss)\n",
        "print('best r2 score ',best_r2_score)"
      ],
      "execution_count": 21,
      "outputs": [
        {
          "output_type": "stream",
          "name": "stdout",
          "text": [
            "Minimum test rmse score  63077.59488122546\n",
            "best r2 score  0.8840727806091309\n"
          ]
        }
      ]
    },
    {
      "cell_type": "markdown",
      "metadata": {
        "id": "aaVa8cCRCTn7"
      },
      "source": [
        "#Question 3\n"
      ]
    },
    {
      "cell_type": "code",
      "metadata": {
        "id": "ZLZ5sjtQEhEH"
      },
      "source": [
        "from keras.callbacks import EarlyStopping\n",
        "tf.keras.callbacks.EarlyStopping(\n",
        "    monitor='val_loss', patience=10\n",
        ")\n",
        "\n",
        "result= {}\n",
        "\n",
        "features_mapping = {\n",
        "    'month': month_encoded_embedding_flatten,\n",
        "    'flat_model_type': flat_model_type_encoded_embedding_flatten,\n",
        "    'storey_range': storey_range_encoded_embedding_flatten,\n",
        "    'floor_area_sqm': floor_area_sqm_encoded,\n",
        "    'remaining_lease_years': remaining_lease_years_encoded,\n",
        "    'degree_centrality': degree_centrality_encoded,\n",
        "    'eigenvector_centrality': eigenvector_centrality_encoded,\n",
        "    'dist_to_nearest_stn': dist_to_nearest_stn_encoded,\n",
        "    'dist_to_dhoby': dist_to_dhoby_encoded\n",
        "}\n",
        "\n",
        "\n",
        "def features_to_tensors_mapping(features):\n",
        "    tensor_list = []\n",
        "    for feature in features:\n",
        "        tensor_list.append(features_mapping[feature])\n",
        "    return tensor_list\n",
        "\n",
        "def find_best_r2score_root_mean_square_error(history):\n",
        "  best_root_mean_square_error=float('inf')\n",
        "  best_r2_score=float('-inf')\n",
        "\n",
        "  for epoch in range(len(history.history['val_r2_score'])):\n",
        "\n",
        "    if(history.history['val_r2_score'][epoch] >= best_r2_score):\n",
        "      best_root_mean_square_error = math.sqrt(history.history['val_loss'][epoch])\n",
        "      best_r2_score = history.history['val_r2_score'][epoch]\n",
        "\n",
        "  return best_r2_score , best_root_mean_square_error\n",
        "\n",
        "def build_model(feature_list):\n",
        "\n",
        "  concatinate_layer = layers.concatenate(feature_list)\n",
        "  x = layers.Dense(10, activation=\"relu\")(concatinate_layer)\n",
        "  output = layers.Dense(1, activation=\"linear\")(x)\n",
        "  model = keras.Model(all_inputs, output)\n",
        "  model.compile(loss=\"mse\", optimizer=tf.keras.optimizers.Adam(learning_rate=0.05), metrics=[r2_score])\n",
        "  history = model.fit(train_ds, epochs=100, validation_data=val_ds, callbacks=[tf.keras.callbacks.EarlyStopping(monitor='val_loss', patience=10)])\n",
        "  print()\n",
        "  return history\n",
        "\n",
        "\n",
        "def recursive_feature_elimination(features):\n",
        "\n",
        "  if(len(features)<=1):\n",
        "    return\n",
        "  best_r2_score = float('-inf')\n",
        "  best_root_mean_square_error = float('inf')\n",
        "  best_feature_index=-1\n",
        "  for i in range(len(features)):\n",
        "    tensor_list = features_to_tensors_mapping(features[:i]+features[i+1:])\n",
        "    history = build_model(tensor_list)\n",
        "    r2_score , root_mean_square_error = find_best_r2score_root_mean_square_error(history)\n",
        "    tf.keras.backend.clear_session()\n",
        "    if(best_r2_score < r2_score):\n",
        "      best_feature_index = i\n",
        "      best_r2_score = r2_score\n",
        "      best_root_mean_square_error = root_mean_square_error\n",
        "  tensor_tuple = features[:best_feature_index]+features[best_feature_index+1:]\n",
        "  result[tuple(tensor_tuple)] = [best_r2_score , best_root_mean_square_error]\n",
        "  recursive_feature_elimination(features[:best_feature_index]+features[best_feature_index+1:])\n",
        "\n",
        "\n",
        "feature_list = [\n",
        "    'month',\n",
        "    'flat_model_type',\n",
        "    'storey_range',\n",
        "    'floor_area_sqm',\n",
        "    'remaining_lease_years',\n",
        "    'degree_centrality',\n",
        "    'eigenvector_centrality',\n",
        "    'dist_to_nearest_stn',\n",
        "    'dist_to_dhoby'           \n",
        "]\n",
        "\n",
        "all_features=[\n",
        "        month_encoded_embedding_flatten,\n",
        "        flat_model_type_encoded_embedding_flatten,\n",
        "        storey_range_encoded_embedding_flatten,\n",
        "        floor_area_sqm_encoded,\n",
        "        remaining_lease_years_encoded,\n",
        "        degree_centrality_encoded,\n",
        "        eigenvector_centrality_encoded,\n",
        "        dist_to_nearest_stn_encoded,\n",
        "        dist_to_dhoby_encoded\n",
        "    ]\n",
        "\n",
        "history = build_model(all_features)\n",
        "best_r2_score , best_root_mean_square_error = find_best_r2score_root_mean_square_error(history)\n",
        "result[tuple(feature_list)] = [best_r2_score , best_root_mean_square_error]\n",
        "tf.keras.backend.clear_session()\n",
        "recursive_feature_elimination(feature_list)\n",
        "\n"
      ],
      "execution_count": null,
      "outputs": []
    },
    {
      "cell_type": "code",
      "metadata": {
        "colab": {
          "base_uri": "https://localhost:8080/"
        },
        "id": "a7J_dK-GbGFb",
        "outputId": "18738687-d512-40f6-fde6-577473b6255e"
      },
      "source": [
        "for key in result.keys():\n",
        "  print(key,'  ',result[key])"
      ],
      "execution_count": 36,
      "outputs": [
        {
          "output_type": "stream",
          "name": "stdout",
          "text": [
            "('month', 'flat_model_type', 'storey_range', 'floor_area_sqm', 'remaining_lease_years', 'degree_centrality', 'eigenvector_centrality', 'dist_to_nearest_stn', 'dist_to_dhoby')    [0.5722963809967041, 105227.50302083576]\n",
            "('month', 'flat_model_type', 'storey_range', 'floor_area_sqm', 'remaining_lease_years', 'degree_centrality', 'dist_to_nearest_stn', 'dist_to_dhoby')    [0.5722089409828186, 105202.25214319321]\n",
            "('flat_model_type', 'storey_range', 'floor_area_sqm', 'remaining_lease_years', 'degree_centrality', 'dist_to_nearest_stn', 'dist_to_dhoby')    [0.5938809514045715, 102500.6755099692]\n",
            "('flat_model_type', 'storey_range', 'floor_area_sqm', 'remaining_lease_years', 'dist_to_nearest_stn', 'dist_to_dhoby')    [0.6215704679489136, 98817.02590141034]\n",
            "('flat_model_type', 'storey_range', 'floor_area_sqm', 'remaining_lease_years', 'dist_to_nearest_stn')    [0.5966245532035828, 102266.94355460125]\n",
            "('flat_model_type', 'storey_range', 'floor_area_sqm', 'remaining_lease_years')    [0.5751687288284302, 104568.78800100918]\n",
            "('flat_model_type', 'storey_range', 'floor_area_sqm')    [0.520806074142456, 111309.98417033398]\n",
            "('flat_model_type', 'storey_range')    [0.4994948208332062, 113688.54689897307]\n",
            "('flat_model_type',)    [0.4841971695423126, 115406.18437501519]\n"
          ]
        }
      ]
    },
    {
      "cell_type": "code",
      "metadata": {
        "id": "Pvx0vMMFYK9h"
      },
      "source": [
        "final_table = {}\n",
        "for key in result.keys():\n",
        "  temp_list=[]\n",
        "  for element in feature_list:\n",
        "    if(element not in key):\n",
        "      temp_list.append(element)\n",
        "  final_table[tuple(temp_list)] = [result[key][0],(result[key][1])]\n"
      ],
      "execution_count": 54,
      "outputs": []
    },
    {
      "cell_type": "code",
      "metadata": {
        "id": "u2NuV3NwZmzG"
      },
      "source": [
        "eliminated_features = []\n",
        "r2_scores_list = []\n",
        "root_mean_square_error_list = []\n",
        "for key in result.keys():\n",
        "  eliminated_features.append(key)\n",
        "  r2_scores_list.append(result[key][0])\n",
        "  root_mean_square_error_list.append(result[key][1])"
      ],
      "execution_count": 60,
      "outputs": []
    },
    {
      "cell_type": "code",
      "metadata": {
        "id": "fyO_f2YZaOkX"
      },
      "source": [
        "rfe_table = pd.DataFrame(list(zip(eliminated_features , r2_scores_list , root_mean_square_error_list)) , columns=['Eliminated features','R2_Score','Root_Mean_Square_Error'])"
      ],
      "execution_count": 64,
      "outputs": []
    },
    {
      "cell_type": "code",
      "metadata": {
        "colab": {
          "base_uri": "https://localhost:8080/",
          "height": 328
        },
        "id": "IGz0upaqb5pv",
        "outputId": "ba088c57-a951-4589-9f54-908d6e701599"
      },
      "source": [
        "rfe_table"
      ],
      "execution_count": 65,
      "outputs": [
        {
          "output_type": "execute_result",
          "data": {
            "text/html": [
              "<div>\n",
              "<style scoped>\n",
              "    .dataframe tbody tr th:only-of-type {\n",
              "        vertical-align: middle;\n",
              "    }\n",
              "\n",
              "    .dataframe tbody tr th {\n",
              "        vertical-align: top;\n",
              "    }\n",
              "\n",
              "    .dataframe thead th {\n",
              "        text-align: right;\n",
              "    }\n",
              "</style>\n",
              "<table border=\"1\" class=\"dataframe\">\n",
              "  <thead>\n",
              "    <tr style=\"text-align: right;\">\n",
              "      <th></th>\n",
              "      <th>Eliminated features</th>\n",
              "      <th>R2_Score</th>\n",
              "      <th>Root_Mean_Square_Error</th>\n",
              "    </tr>\n",
              "  </thead>\n",
              "  <tbody>\n",
              "    <tr>\n",
              "      <th>0</th>\n",
              "      <td>(month, flat_model_type, storey_range, floor_a...</td>\n",
              "      <td>0.572296</td>\n",
              "      <td>105227.503021</td>\n",
              "    </tr>\n",
              "    <tr>\n",
              "      <th>1</th>\n",
              "      <td>(month, flat_model_type, storey_range, floor_a...</td>\n",
              "      <td>0.572209</td>\n",
              "      <td>105202.252143</td>\n",
              "    </tr>\n",
              "    <tr>\n",
              "      <th>2</th>\n",
              "      <td>(flat_model_type, storey_range, floor_area_sqm...</td>\n",
              "      <td>0.593881</td>\n",
              "      <td>102500.675510</td>\n",
              "    </tr>\n",
              "    <tr>\n",
              "      <th>3</th>\n",
              "      <td>(flat_model_type, storey_range, floor_area_sqm...</td>\n",
              "      <td>0.621570</td>\n",
              "      <td>98817.025901</td>\n",
              "    </tr>\n",
              "    <tr>\n",
              "      <th>4</th>\n",
              "      <td>(flat_model_type, storey_range, floor_area_sqm...</td>\n",
              "      <td>0.596625</td>\n",
              "      <td>102266.943555</td>\n",
              "    </tr>\n",
              "    <tr>\n",
              "      <th>5</th>\n",
              "      <td>(flat_model_type, storey_range, floor_area_sqm...</td>\n",
              "      <td>0.575169</td>\n",
              "      <td>104568.788001</td>\n",
              "    </tr>\n",
              "    <tr>\n",
              "      <th>6</th>\n",
              "      <td>(flat_model_type, storey_range, floor_area_sqm)</td>\n",
              "      <td>0.520806</td>\n",
              "      <td>111309.984170</td>\n",
              "    </tr>\n",
              "    <tr>\n",
              "      <th>7</th>\n",
              "      <td>(flat_model_type, storey_range)</td>\n",
              "      <td>0.499495</td>\n",
              "      <td>113688.546899</td>\n",
              "    </tr>\n",
              "    <tr>\n",
              "      <th>8</th>\n",
              "      <td>(flat_model_type,)</td>\n",
              "      <td>0.484197</td>\n",
              "      <td>115406.184375</td>\n",
              "    </tr>\n",
              "  </tbody>\n",
              "</table>\n",
              "</div>"
            ],
            "text/plain": [
              "                                 Eliminated features  ...  Root_Mean_Square_Error\n",
              "0  (month, flat_model_type, storey_range, floor_a...  ...           105227.503021\n",
              "1  (month, flat_model_type, storey_range, floor_a...  ...           105202.252143\n",
              "2  (flat_model_type, storey_range, floor_area_sqm...  ...           102500.675510\n",
              "3  (flat_model_type, storey_range, floor_area_sqm...  ...            98817.025901\n",
              "4  (flat_model_type, storey_range, floor_area_sqm...  ...           102266.943555\n",
              "5  (flat_model_type, storey_range, floor_area_sqm...  ...           104568.788001\n",
              "6    (flat_model_type, storey_range, floor_area_sqm)  ...           111309.984170\n",
              "7                    (flat_model_type, storey_range)  ...           113688.546899\n",
              "8                                 (flat_model_type,)  ...           115406.184375\n",
              "\n",
              "[9 rows x 3 columns]"
            ]
          },
          "metadata": {},
          "execution_count": 65
        }
      ]
    },
    {
      "cell_type": "code",
      "metadata": {
        "id": "7WIcFZq4e6hM"
      },
      "source": [
        ""
      ],
      "execution_count": null,
      "outputs": []
    }
  ]
}