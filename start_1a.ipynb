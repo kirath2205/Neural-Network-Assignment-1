{
  "nbformat": 4,
  "nbformat_minor": 0,
  "metadata": {
    "colab": {
      "name": "start_1a.ipynb",
      "provenance": [],
      "collapsed_sections": [],
      "include_colab_link": true
    },
    "kernelspec": {
      "display_name": "Python 3",
      "language": "python",
      "name": "python3"
    },
    "language_info": {
      "codemirror_mode": {
        "name": "ipython",
        "version": 3
      },
      "file_extension": ".py",
      "mimetype": "text/x-python",
      "name": "python",
      "nbconvert_exporter": "python",
      "pygments_lexer": "ipython3",
      "version": "3.7.9"
    }
  },
  "cells": [
    {
      "cell_type": "markdown",
      "metadata": {
        "id": "view-in-github",
        "colab_type": "text"
      },
      "source": [
        "<a href=\"https://colab.research.google.com/github/kirath2205/Neural-Network-Assignment-1/blob/main/start_1a.ipynb\" target=\"_parent\"><img src=\"https://colab.research.google.com/assets/colab-badge.svg\" alt=\"Open In Colab\"/></a>"
      ]
    },
    {
      "cell_type": "markdown",
      "metadata": {
        "id": "DuZ1rVKcYIII"
      },
      "source": [
        "In this cell we import the required libraries for our project"
      ]
    },
    {
      "cell_type": "markdown",
      "metadata": {
        "id": "njWhPVtvZE4C"
      },
      "source": [
        "\n",
        "\n",
        "---\n",
        "\n"
      ]
    },
    {
      "cell_type": "code",
      "metadata": {
        "id": "YM8unKH7nSIM"
      },
      "source": [
        "\n",
        "\n",
        "import tensorflow\n",
        "import pandas as pd\n",
        "import time\n",
        "import numpy as np\n",
        "import statistics\n",
        "\n",
        "# tensorflow libraries\n",
        "import tensorflow as tf\n",
        "import tensorflow.keras as keras\n",
        "from tensorflow.keras import Sequential\n",
        "from tensorflow.keras.layers import Dense, Dropout,Input\n",
        "\n",
        "# sklearn libraries are useful for preprocessing, performance measures, etc.\n",
        "from sklearn import preprocessing\n",
        "from sklearn.model_selection import KFold\n",
        "from sklearn.model_selection import train_test_split\n",
        "\n",
        "import matplotlib.pyplot as plt\n",
        "\n"
      ],
      "execution_count": null,
      "outputs": []
    },
    {
      "cell_type": "markdown",
      "metadata": {
        "id": "gmTBl3xoqA9g"
      },
      "source": [
        "# Read Data"
      ]
    },
    {
      "cell_type": "markdown",
      "metadata": {
        "id": "ri6BrLzMZCyL"
      },
      "source": [
        "\n",
        "\n",
        "---\n",
        "\n"
      ]
    },
    {
      "cell_type": "code",
      "metadata": {
        "id": "An4b9d12p8u2"
      },
      "source": [
        "\n",
        "\n",
        "df = pd.read_csv('./features_30_sec.csv')\n",
        "\n"
      ],
      "execution_count": null,
      "outputs": []
    },
    {
      "cell_type": "code",
      "metadata": {
        "id": "CHZQbQVzqGIA",
        "colab": {
          "base_uri": "https://localhost:8080/"
        },
        "outputId": "b95dfcac-5bb1-4882-ad75-ccdf226f1f08"
      },
      "source": [
        "\n",
        "\n",
        "df['label'].value_counts()\n",
        "\n"
      ],
      "execution_count": null,
      "outputs": [
        {
          "output_type": "execute_result",
          "data": {
            "text/plain": [
              "reggae       100\n",
              "blues        100\n",
              "jazz         100\n",
              "rock         100\n",
              "pop          100\n",
              "classical    100\n",
              "disco        100\n",
              "hiphop       100\n",
              "metal        100\n",
              "country      100\n",
              "Name: label, dtype: int64"
            ]
          },
          "metadata": {},
          "execution_count": 28
        }
      ]
    },
    {
      "cell_type": "markdown",
      "metadata": {
        "id": "1zp_RDMgqL9Z"
      },
      "source": [
        "#Question 1\n"
      ]
    },
    {
      "cell_type": "markdown",
      "metadata": {
        "id": "fDqx_nAkYQkf"
      },
      "source": [
        "In this cell, we pre-process the data and split the data into train and test "
      ]
    },
    {
      "cell_type": "markdown",
      "metadata": {
        "id": "QPseyZpQY-hd"
      },
      "source": [
        "\n",
        "\n",
        "---\n",
        "\n"
      ]
    },
    {
      "cell_type": "code",
      "metadata": {
        "id": "2fNTd9t7qHCI"
      },
      "source": [
        "\n",
        "\n",
        "columns_to_drop = ['label','filename', 'length']\n",
        "\n",
        "def prepare_dataset_question1(df, columns_to_drop, test_size, random_state):\n",
        "\n",
        "    # Encode the labels from 0 to n_classes-1  \n",
        "    label_encoder = preprocessing.LabelEncoder()\n",
        "    df['label'] = label_encoder.fit_transform(df['label'])\n",
        "  \n",
        "    # devide data to train and test\n",
        "    df_train, df_test = train_test_split(df, test_size=test_size, random_state=random_state)\n",
        "    \n",
        "    # scale the training inputs\n",
        "    x_train = df_train.drop(columns_to_drop,axis=1)\n",
        "    y_train = df_train['label'].to_numpy()\n",
        "    \n",
        "    standard_scaler = preprocessing.StandardScaler()\n",
        "    x_train_scaled = standard_scaler.fit_transform(x_train)\n",
        "\n",
        "    #scale and prepare testing data\n",
        "    x_test = df_test.drop(columns_to_drop,axis=1)\n",
        "    x_test_scaled = standard_scaler.transform(x_test)\n",
        "    y_test = df_test['label'].to_numpy() \n",
        "  \n",
        "    return x_train_scaled, y_train, x_test_scaled, y_test\n",
        "\n"
      ],
      "execution_count": null,
      "outputs": []
    },
    {
      "cell_type": "code",
      "metadata": {
        "id": "gwr6HuVTLJdQ"
      },
      "source": [
        "\n",
        "\n",
        "# Splitting the data into train and test with a 70:30 split\n",
        "X_train, y_train, X_test, y_test = prepare_dataset_question1(df, columns_to_drop, test_size=0.3, random_state=0)\n",
        "\n"
      ],
      "execution_count": null,
      "outputs": []
    },
    {
      "cell_type": "markdown",
      "metadata": {
        "id": "Xp3FKLJ8Poi3"
      },
      "source": [
        "\n",
        "\n",
        "Creating functions to build and train models\n",
        "\n",
        "1. build_model - This function accepts parameters including total_classes , input_shape , hidden_layer_neurons , hidden_layers (denotes total number of hidden layers in the model architecture) , need_drop_out (denotes if the dropout layer needs to be added in the architecture , dropout_probability , optimizer . This function declares the model architecture as well as compiles it and returns the model\n",
        "\n",
        "2. train_model - This function accepts parameters including the keras model, epochs , X_train , y_train , X_test , y_test , batch_size , callbacks. This function essentially fits the model on the training data and tests it on the test data and returns the history denoting the results of the model\n",
        "\n"
      ]
    },
    {
      "cell_type": "markdown",
      "metadata": {
        "id": "a7HeBSEAZN3d"
      },
      "source": [
        "\n",
        "\n",
        "---\n",
        "\n"
      ]
    },
    {
      "cell_type": "code",
      "metadata": {
        "id": "FHzGpNhMLRKK"
      },
      "source": [
        "\n",
        "\n",
        "def build_model(total_classes,input_shape,hidden_layer_neurons=16,hidden_layers=1,need_drop_out=True,dropout_probability=0.3,optimizer='adam'):\n",
        "\n",
        "  model=tf.keras.models.Sequential()\n",
        "  model.add(keras.layers.Input(shape=input_shape))\n",
        "\n",
        "  for i in range(hidden_layers):\n",
        "    model.add(keras.layers.Dense(hidden_layer_neurons, activation=\"relu\"))\n",
        "\n",
        "    if(need_drop_out):\n",
        "      model.add(keras.layers.Dropout(dropout_probability))\n",
        "\n",
        "  model.add(keras.layers.Dense(total_classes, activation='softmax'))\n",
        "  model.compile(optimizer=optimizer,metrics=['accuracy'],loss=keras.losses.SparseCategoricalCrossentropy(from_logits=True))\n",
        "\n",
        "  return model\n",
        "\n",
        "def train_model(model,epochs,X_train,y_train,X_test,y_test,batch_size=1,callbacks=[]):\n",
        "\n",
        "  history=model.fit(X_train,y_train,epochs=epochs,batch_size=batch_size,validation_data=(X_test,y_test),callbacks=callbacks)\n",
        "  return history\n",
        "\n"
      ],
      "execution_count": null,
      "outputs": []
    },
    {
      "cell_type": "markdown",
      "metadata": {
        "id": "EdsjA20zQzI1"
      },
      "source": [
        "#Question 1 Part a)\n"
      ]
    },
    {
      "cell_type": "code",
      "metadata": {
        "id": "jKTjIoXON16_"
      },
      "source": [
        "\n",
        "\n",
        "history={}\n",
        "model=build_model(10,X_train[0].shape)\n",
        "history['question-1']=train_model(model,50,X_train,y_train,X_test,y_test)\n",
        "\n"
      ],
      "execution_count": null,
      "outputs": []
    },
    {
      "cell_type": "markdown",
      "metadata": {
        "id": "m-L4opi3Q7jY"
      },
      "source": [
        "#Question 1 Part b)"
      ]
    },
    {
      "cell_type": "code",
      "metadata": {
        "id": "9Rp6THVHUO5g"
      },
      "source": [
        "\n",
        "\n",
        "plt.plot(history['question-1'].history['accuracy'])\n",
        "plt.plot(history['question-1'].history['val_accuracy'])\n",
        "plt.title('model accuracy')\n",
        "plt.ylabel('accuracy')\n",
        "plt.xlabel('epoch')\n",
        "plt.legend(['train', 'test'], loc='upper left')\n",
        "plt.show()\n",
        "# summarize history for loss\n",
        "plt.plot(history['question-1'].history['loss'])\n",
        "plt.plot(history['question-1'].history['val_loss'])\n",
        "plt.title('model loss')\n",
        "plt.ylabel('loss')\n",
        "plt.xlabel('epoch')\n",
        "plt.legend(['train', 'test'], loc='upper left')\n",
        "plt.show()\n",
        "\n"
      ],
      "execution_count": null,
      "outputs": []
    },
    {
      "cell_type": "markdown",
      "metadata": {
        "id": "9IorHzJhS7Cq"
      },
      "source": [
        "#Question 2"
      ]
    },
    {
      "cell_type": "markdown",
      "metadata": {
        "id": "YgpJbFifRBd6"
      },
      "source": [
        "Adding a callback to find spoch times during training"
      ]
    },
    {
      "cell_type": "markdown",
      "metadata": {
        "id": "EvqteHn7ZaqA"
      },
      "source": [
        "\n",
        "\n",
        "---\n",
        "\n"
      ]
    },
    {
      "cell_type": "code",
      "metadata": {
        "id": "nyjeIqAAWynN"
      },
      "source": [
        "\n",
        "\n",
        "class TimeHistory(keras.callbacks.Callback):\n",
        "\n",
        "    def on_train_begin(self, logs={}):\n",
        "        self.times = []\n",
        "\n",
        "    def on_epoch_begin(self, batch, logs={}):\n",
        "        self.epoch_time_start = time.time()\n",
        "        \n",
        "    def on_epoch_end(self, batch, logs={}):\n",
        "        self.times.append(time.time() - self.epoch_time_start)\n",
        "\n"
      ],
      "execution_count": null,
      "outputs": []
    },
    {
      "cell_type": "markdown",
      "metadata": {
        "id": "iNiHB8kbTFV5"
      },
      "source": [
        "This cell is used to create models for different batch-sizes over 3 fold cross validation"
      ]
    },
    {
      "cell_type": "markdown",
      "metadata": {
        "id": "aYVQqaWrZcki"
      },
      "source": [
        "\n",
        "\n",
        "---\n",
        "\n"
      ]
    },
    {
      "cell_type": "code",
      "metadata": {
        "id": "aPwdWcysUzuQ"
      },
      "source": [
        "\n",
        "\n",
        "n_splits=3 # total number of folds in the cross-validation\n",
        "\n",
        "kf = KFold(n_splits=n_splits) # creating KFold object \n",
        "\n",
        "batch_sizes=[1,4,8,16,32,64] # batch_sizes list denotes the search space of the batch sizes given in the assignment handout\n",
        "\n",
        "total_classes=10 # denotes total number of classes\n",
        "\n",
        "input_shape=X_train[0].shape # denotes input shape\n",
        "\n",
        "history={} # denotes a history dictionary to save the results of the trained model\n",
        "\n",
        "k_fold=1 # denotes the current k_fold during the experiment \n",
        "\n",
        "epochs=50 # denotes total epochs\n",
        "\n",
        "epoch_times={} # denotes a dictionary to save the epoch times during cross-validation to find median epoch times later\n",
        "\n",
        "for element in batch_sizes:\n",
        "\n",
        "  for fold in range(1,4):\n",
        "    epoch_times[(element,fold)]=[]\n",
        "\n",
        "for train,test in kf.split(X_train):\n",
        "\n",
        "  X_train_cross_validation , X_test_cross_validation = X_train[train] , X_train[test]\n",
        "  y_train_cross_validation , y_test_cross_validation = y_train[train] , y_train[test]\n",
        "\n",
        "  for batch_size in batch_sizes:\n",
        "\n",
        "    print()\n",
        "    print('Model for batch size ',batch_size, ' and fold ',k_fold)\n",
        "\n",
        "    tf.keras.backend.clear_session()\n",
        "    model=build_model(total_classes,input_shape)\n",
        "    time_callback = TimeHistory()\n",
        "    history[(batch_size,k_fold)] = train_model(model,epochs,X_train_cross_validation,y_train_cross_validation,X_test_cross_validation,y_test_cross_validation,batch_size,[time_callback])\n",
        "    \n",
        "    for element in time_callback.times: # this for-loop code is used to save epoch_times for the respective batch_size and k_fold pair\n",
        "      epoch_times[(batch_size,k_fold)].append(element)\n",
        "\n",
        "  k_fold+=1\n",
        "\n"
      ],
      "execution_count": null,
      "outputs": []
    },
    {
      "cell_type": "markdown",
      "metadata": {
        "id": "tXHJ44mcS1qB"
      },
      "source": [
        "This cell essentially calculates the mean cross validation accuracies over 3 folds for the respective batch sizes"
      ]
    },
    {
      "cell_type": "markdown",
      "metadata": {
        "id": "RyIZop_cZe1Y"
      },
      "source": [
        "\n",
        "\n",
        "---\n",
        "\n"
      ]
    },
    {
      "cell_type": "code",
      "metadata": {
        "id": "ef-ocmK06jcB"
      },
      "source": [
        "\n",
        "\n",
        "mean_cross_validation_accuracies=[]\n",
        "\n",
        "for batch_size in batch_sizes:\n",
        "  temp=[]\n",
        "\n",
        "  for k_fold in range(1,4):\n",
        "    temp.append(history[batch_size,k_fold].history['val_accuracy'])\n",
        "\n",
        "  mean_accuracy=[0]*epochs\n",
        "\n",
        "  for list1 in temp:\n",
        "\n",
        "    for epoch in range(len(list1)):\n",
        "      mean_accuracy[epoch]+=list1[epoch]\n",
        "  \n",
        "  for i in range(epochs):\n",
        "    mean_accuracy[i]=mean_accuracy[i]/3\n",
        "    \n",
        "  mean_cross_validation_accuracies.append(mean_accuracy.copy())\n"
      ],
      "execution_count": null,
      "outputs": []
    },
    {
      "cell_type": "markdown",
      "metadata": {
        "id": "76PN4GLcSUyA"
      },
      "source": [
        "#Question 2 a)"
      ]
    },
    {
      "cell_type": "code",
      "metadata": {
        "id": "rjZcO9agkjGz"
      },
      "source": [
        "\n",
        "\n",
        "epoch_list=[(i+1) for i in range(epochs)]\n",
        "\n",
        "for index in range(len(batch_sizes)):\n",
        "  batch_size=batch_sizes[index]\n",
        "  mean_accuracy_list=mean_cross_validation_accuracies[index]\n",
        "  plt.xlabel('epochs')\n",
        "  plt.ylabel('cross-validation accuracy')\n",
        "  plt.plot(epoch_list, mean_accuracy_list, label = 'batch size of '+str(batch_sizes[index]))\n",
        "  plt.legend()\n",
        "  plt.show()\n",
        "\n",
        "  "
      ],
      "execution_count": null,
      "outputs": []
    },
    {
      "cell_type": "markdown",
      "metadata": {
        "id": "TLsudlLtTlbX"
      },
      "source": [
        "This cell finds out the list of mean epoch times for different batch sizes over 3 fold cross validation and then uses this mean epoch times list to find out the median epoch time for the respective batch size"
      ]
    },
    {
      "cell_type": "markdown",
      "metadata": {
        "id": "ZcmbS6CVZgxC"
      },
      "source": [
        "\n",
        "\n",
        "---\n",
        "\n"
      ]
    },
    {
      "cell_type": "code",
      "metadata": {
        "id": "QGdXRbkFV7G-"
      },
      "source": [
        "\n",
        "\n",
        "mean_epoch_times={}\n",
        "median_epoch_times = {}\n",
        "\n",
        "for batch_size in batch_sizes:\n",
        "  mean_epoch_times[batch_size] = [0] * 50\n",
        "\n",
        "for batch_size in batch_sizes:\n",
        "\n",
        "  for key in epoch_times.keys():\n",
        "\n",
        "    if(key[0]==batch_size):\n",
        "\n",
        "      for epoch in range(50):\n",
        "        mean_epoch_times[batch_size][epoch] += epoch_times[key][epoch]\n",
        "\n",
        "for batch_size in batch_sizes:\n",
        "\n",
        "  for epoch in range(50):\n",
        "    mean_epoch_times[batch_size][epoch] = mean_epoch_times[batch_size][epoch]/2\n",
        "\n",
        "for batch_size in mean_epoch_times.keys():\n",
        "  median_epoch_times[batch_size] = float(\"{:.2f}\".format(statistics.median(mean_epoch_times[batch_size])))\n",
        "\n",
        "median_epoch_time_table=pd.DataFrame(median_epoch_times.items(),columns=['Batch_size','Median epoch time'])\n",
        "\n"
      ],
      "execution_count": null,
      "outputs": []
    },
    {
      "cell_type": "markdown",
      "metadata": {
        "id": "yzFSJo9qSfaq"
      },
      "source": [
        "#Question 2 b)"
      ]
    },
    {
      "cell_type": "markdown",
      "metadata": {
        "id": "pFpsKoumYdKU"
      },
      "source": [
        "In this cell we display the table containing the median epoch times for the respective batch sizes"
      ]
    },
    {
      "cell_type": "markdown",
      "metadata": {
        "id": "VzfPHMIeZjdn"
      },
      "source": [
        "\n",
        "\n",
        "---\n",
        "\n"
      ]
    },
    {
      "cell_type": "code",
      "metadata": {
        "id": "HU247Eg6e2P8",
        "colab": {
          "base_uri": "https://localhost:8080/",
          "height": 235
        },
        "outputId": "a3a6ebac-da57-483b-a6ba-7125c8f656e7"
      },
      "source": [
        "\n",
        "\n",
        "median_epoch_time_table.index = median_epoch_time_table.index + 1\n",
        "median_epoch_time_table # pandas dataframe that holds the median epoch time for the various batch sizes\n",
        "\n"
      ],
      "execution_count": null,
      "outputs": [
        {
          "output_type": "execute_result",
          "data": {
            "text/html": [
              "<div>\n",
              "<style scoped>\n",
              "    .dataframe tbody tr th:only-of-type {\n",
              "        vertical-align: middle;\n",
              "    }\n",
              "\n",
              "    .dataframe tbody tr th {\n",
              "        vertical-align: top;\n",
              "    }\n",
              "\n",
              "    .dataframe thead th {\n",
              "        text-align: right;\n",
              "    }\n",
              "</style>\n",
              "<table border=\"1\" class=\"dataframe\">\n",
              "  <thead>\n",
              "    <tr style=\"text-align: right;\">\n",
              "      <th></th>\n",
              "      <th>Batch_size</th>\n",
              "      <th>Median time</th>\n",
              "    </tr>\n",
              "  </thead>\n",
              "  <tbody>\n",
              "    <tr>\n",
              "      <th>1</th>\n",
              "      <td>1</td>\n",
              "      <td>1.26</td>\n",
              "    </tr>\n",
              "    <tr>\n",
              "      <th>2</th>\n",
              "      <td>4</td>\n",
              "      <td>0.35</td>\n",
              "    </tr>\n",
              "    <tr>\n",
              "      <th>3</th>\n",
              "      <td>8</td>\n",
              "      <td>0.22</td>\n",
              "    </tr>\n",
              "    <tr>\n",
              "      <th>4</th>\n",
              "      <td>16</td>\n",
              "      <td>0.12</td>\n",
              "    </tr>\n",
              "    <tr>\n",
              "      <th>5</th>\n",
              "      <td>32</td>\n",
              "      <td>0.09</td>\n",
              "    </tr>\n",
              "    <tr>\n",
              "      <th>6</th>\n",
              "      <td>64</td>\n",
              "      <td>0.06</td>\n",
              "    </tr>\n",
              "  </tbody>\n",
              "</table>\n",
              "</div>"
            ],
            "text/plain": [
              "   Batch_size  Median time\n",
              "1           1         1.26\n",
              "2           4         0.35\n",
              "3           8         0.22\n",
              "4          16         0.12\n",
              "5          32         0.09\n",
              "6          64         0.06"
            ]
          },
          "metadata": {},
          "execution_count": 68
        }
      ]
    },
    {
      "cell_type": "markdown",
      "metadata": {
        "id": "0xW5ozndUH5d"
      },
      "source": [
        "#Question 2 parts c) d) and e)"
      ]
    },
    {
      "cell_type": "markdown",
      "metadata": {
        "id": "JeNj1zBlUWvQ"
      },
      "source": [
        "In this cell, we create a parameter optimal_batch_size, that denotes the selected optimal batch size for the model. Then we build and train the model, with the optimal batch size, on the original train and test data, additionally we plot the train and test accuracies for the model with the optimal batch size"
      ]
    },
    {
      "cell_type": "markdown",
      "metadata": {
        "id": "spP225OwZlW3"
      },
      "source": [
        "\n",
        "\n",
        "---\n",
        "\n"
      ]
    },
    {
      "cell_type": "code",
      "metadata": {
        "id": "CRz9U9I-Y14V"
      },
      "source": [
        "\n",
        "\n",
        "epoch_list=[(i+1) for i in range(epochs)] \n",
        "\n",
        "optimal_batch_size = 32 # denotes the selected optimal batch size for the model\n",
        "\n",
        "print('Model for optimal batch size ',optimal_batch_size)\n",
        "\n",
        "tf.keras.backend.clear_session()\n",
        "model=build_model(total_classes,input_shape)\n",
        "time_callback = TimeHistory()\n",
        "history['optimal_batch_size_model'] = train_model(model,epochs,X_train,y_train,X_test,y_test,optimal_batch_size,[time_callback])\n",
        "\n",
        "plt.xlabel('Epochs')\n",
        "plt.ylabel('Accuracy')\n",
        "plt.title('test and train accuracy for batch size - '+str(optimal_batch_size))\n",
        "plt.plot(epoch_list,history['optimal_batch_size_model'].history['accuracy'],label='train accuracy')\n",
        "plt.plot(epoch_list,history['optimal_batch_size_model'].history['val_accuracy'],label='test accuracy')\n",
        "plt.legend(['train','test'] , loc='upper right')\n",
        "\n"
      ],
      "execution_count": null,
      "outputs": []
    },
    {
      "cell_type": "markdown",
      "metadata": {
        "id": "cRHBXuIgAEcj"
      },
      "source": [
        "#Question 3\n"
      ]
    },
    {
      "cell_type": "markdown",
      "metadata": {
        "id": "G9bbf_ufV7S9"
      },
      "source": [
        "In this cell we create models for different hidden-layer neurons over 3 fold cross validation"
      ]
    },
    {
      "cell_type": "code",
      "metadata": {
        "id": "rje5XuW8AHm5"
      },
      "source": [
        "\n",
        "\n",
        "hidden_layer_neuron_list=[8, 16, 32, 64] # denotes the search space for the total number of neurons in the hidden layer as given in the assignment handout\n",
        "\n",
        "k_fold = 1\n",
        "\n",
        "for train,test in kf.split(X_train):\n",
        "\n",
        "  X_train_cross_validation , X_test_cross_validation = X_train[train] , X_train[test]\n",
        "  y_train_cross_validation , y_test_cross_validation = y_train[train] , y_train[test]\n",
        "\n",
        "  for hidden_layer_neurons in hidden_layer_neuron_list:\n",
        "\n",
        "    print()\n",
        "    print('Model for ',hidden_layer_neurons, ' neurons and fold ',k_fold)\n",
        "    tf.keras.backend.clear_session()\n",
        "    model=build_model(total_classes,input_shape,hidden_layer_neurons)\n",
        "    history[(hidden_layer_neurons,k_fold)] = train_model(model,epochs,X_train_cross_validation,y_train_cross_validation,X_test_cross_validation,y_test_cross_validation,optimal_batch_size,[time_callback])\n",
        "\n",
        "  k_fold+=1\n",
        "\n"
      ],
      "execution_count": null,
      "outputs": []
    },
    {
      "cell_type": "markdown",
      "metadata": {
        "id": "7RA9RAzIWNnr"
      },
      "source": [
        "This cell is used to find the mean cross validation accuracies for different hidden layer neurons over 3 fold cross-validation"
      ]
    },
    {
      "cell_type": "markdown",
      "metadata": {
        "id": "AysCbVElZrVK"
      },
      "source": [
        "\n",
        "\n",
        "---\n",
        "\n"
      ]
    },
    {
      "cell_type": "code",
      "metadata": {
        "id": "gVN3p1lDd5R-"
      },
      "source": [
        "\n",
        "\n",
        "mean_cross_validation_accuracies=[]\n",
        "\n",
        "for hidden_layer_neurons in hidden_layer_neuron_list:\n",
        "\n",
        "  temp=[]\n",
        "  for key in history.keys():\n",
        "\n",
        "    if(key[0]==hidden_layer_neurons):\n",
        "      temp.append(history[key].history['val_accuracy'])\n",
        "\n",
        "  mean_accuracy=[0]*epochs\n",
        "\n",
        "  for element in temp:\n",
        "\n",
        "    for epoch in range(epochs):\n",
        "      mean_accuracy[epoch]+=element[epoch]\n",
        "\n",
        "  for epoch in range(epochs):\n",
        "    mean_accuracy[epoch]=mean_accuracy[epoch]/n_splits\n",
        "    \n",
        "  mean_cross_validation_accuracies.append(mean_accuracy)\n",
        "\n"
      ],
      "execution_count": null,
      "outputs": []
    },
    {
      "cell_type": "markdown",
      "metadata": {
        "id": "oC2gwpkXWc7n"
      },
      "source": [
        "#Question 3 a)"
      ]
    },
    {
      "cell_type": "code",
      "metadata": {
        "id": "wiMDEaAgegyH"
      },
      "source": [
        "\n",
        "\n",
        "plt.xlabel('epochs')\n",
        "plt.ylabel('accuracy')\n",
        "plt.title('mean cross-validation accuracies for different neurons')\n",
        "\n",
        "for index in range(len(hidden_layer_neuron_list)):\n",
        "  hidden_layer_neurons=hidden_layer_neuron_list[index]\n",
        "  mean_accuracy_list=mean_cross_validation_accuracies[index]\n",
        "  plt.plot(epoch_list, mean_accuracy_list, label = 'Total hidden neurons of '+str(hidden_layer_neuron_list[index]))\n",
        "  plt.legend()\n",
        "  plt.show()\n",
        "\n"
      ],
      "execution_count": null,
      "outputs": []
    },
    {
      "cell_type": "markdown",
      "metadata": {
        "id": "vFxqheVcW4_Q"
      },
      "source": [
        "#Question 3 b), c) and d)"
      ]
    },
    {
      "cell_type": "markdown",
      "metadata": {
        "id": "5WtpR9_CWfX2"
      },
      "source": [
        "In this cell, we create a variable optimal_neurons that denotes the selected optimal number of hidden layer neurons. Then we train a model with the optimal hidden layer neurons on the original train data and test it on the test data and plot the corresponding train and test accuracies."
      ]
    },
    {
      "cell_type": "markdown",
      "metadata": {
        "id": "T6H_veokZtVb"
      },
      "source": [
        "\n",
        "\n",
        "---\n",
        "\n"
      ]
    },
    {
      "cell_type": "code",
      "metadata": {
        "id": "bGpGsJWFe4qF"
      },
      "source": [
        "\n",
        "\n",
        "optimal_neurons = 64\n",
        "print('Model for optimal neurons ',optimal_neurons)\n",
        "tf.keras.backend.clear_session()\n",
        "model=build_model(total_classes,input_shape,optimal_neurons)\n",
        "time_callback = TimeHistory()\n",
        "history['optimal_neuron_model'] = train_model(model,epochs,X_train,y_train,X_test,y_test,optimal_batch_size,[time_callback])\n",
        "plt.xlabel('Epochs')\n",
        "plt.ylabel('Accuracy')\n",
        "plt.title('test and train accuracy for - '+str(optimal_neurons)+' neurons')\n",
        "plt.plot(epoch_list,history['optimal_neuron_model'].history['accuracy'],label='train accuracy')\n",
        "plt.plot(epoch_list,history['optimal_neuron_model'].history['val_accuracy'],label='test accuracy')\n",
        "plt.legend(['train','test'] , loc='upper right')\n",
        "\n"
      ],
      "execution_count": null,
      "outputs": []
    },
    {
      "cell_type": "markdown",
      "metadata": {
        "id": "haudiBbemFoP"
      },
      "source": [
        "#Question-4 a) and b)"
      ]
    },
    {
      "cell_type": "markdown",
      "metadata": {
        "id": "cWF_W9sbXNnu"
      },
      "source": [
        "In this cell, we train the model with 2 hidden layers and a batch size of 1 on the orignal train data and test it on the original test data\n"
      ]
    },
    {
      "cell_type": "markdown",
      "metadata": {
        "id": "ODBxPbKwZuq8"
      },
      "source": [
        "\n",
        "\n",
        "---\n",
        "\n"
      ]
    },
    {
      "cell_type": "code",
      "metadata": {
        "id": "-on9TM-ofczc"
      },
      "source": [
        "\n",
        "\n",
        "total_classes=10\n",
        "image_shape=X_train[0].shape\n",
        "hidden_layers=2\n",
        "history={}\n",
        "batch_size=1\n",
        "model=build_model(total_classes,image_shape,optimal_neurons,hidden_layers)\n",
        "history['question-4']=train_model(model,50,X_train,y_train,X_test,y_test,batch_size)\n",
        "\n"
      ],
      "execution_count": null,
      "outputs": []
    },
    {
      "cell_type": "code",
      "metadata": {
        "id": "O2PhEDOgnUfk",
        "colab": {
          "base_uri": "https://localhost:8080/",
          "height": 295
        },
        "outputId": "49549e73-a997-460c-fa93-924e80414c92"
      },
      "source": [
        "\n",
        "\n",
        "plt.plot(history['question-4'].history['accuracy'])\n",
        "plt.plot(history['question-4'].history['val_accuracy'])\n",
        "plt.title('model accuracy')\n",
        "plt.ylabel('accuracy')\n",
        "plt.xlabel('epoch')\n",
        "plt.legend(['train', 'test'], loc='upper left')\n",
        "plt.show()\n",
        "\n"
      ],
      "execution_count": null,
      "outputs": [
        {
          "output_type": "display_data",
          "data": {
            "image/png": "[encoded data removed]",
            "text/plain": [
              "<Figure size 432x288 with 1 Axes>"
            ]
          },
          "metadata": {
            "needs_background": "light"
          }
        }
      ]
    },
    {
      "cell_type": "markdown",
      "metadata": {
        "id": "em86jh2n0LMa"
      },
      "source": [
        "#Question-5 part a), b) and c)\n"
      ]
    },
    {
      "cell_type": "markdown",
      "metadata": {
        "id": "aY3HMAAcXwfo"
      },
      "source": [
        "In this cell, we build a model by excluding the hidden layers "
      ]
    },
    {
      "cell_type": "markdown",
      "metadata": {
        "id": "w-4nctgpZwMV"
      },
      "source": [
        "\n",
        "\n",
        "---\n",
        "\n"
      ]
    },
    {
      "cell_type": "code",
      "metadata": {
        "id": "Q6xjy0PB1TS4"
      },
      "source": [
        "\n",
        "\n",
        "history={}\n",
        "model=build_model(10,X_train[0].shape)\n",
        "hidden_layer_neurons=16\n",
        "hidden_layers=1\n",
        "epochs=50\n",
        "total_classes=10\n",
        "need_drop_out=False # denotes the exclusion of dropout layers\n",
        "input_shape=X_train[0].shape\n",
        "batch_size=1\n",
        "model=build_model(total_classes,input_shape,hidden_layer_neurons,hidden_layers,need_drop_out)\n",
        "history={}\n",
        "history['question-5']=train_model(model,50,X_train,y_train,X_test,y_test,batch_size)\n",
        "\n"
      ],
      "execution_count": null,
      "outputs": []
    },
    {
      "cell_type": "code",
      "metadata": {
        "id": "MSr0Ieo12BJ-"
      },
      "source": [
        "\n",
        "\n",
        "plt.plot(history['question-5'].history['accuracy'])\n",
        "plt.plot(history['question-5'].history['val_accuracy'])\n",
        "plt.title('model accuracy')\n",
        "plt.ylabel('accuracy')\n",
        "plt.xlabel('epoch')\n",
        "plt.legend(['train', 'test'], loc='upper left')\n",
        "plt.show()\n",
        "# summarize history for loss\n",
        "plt.plot(history['question-5'].history['loss'])\n",
        "plt.plot(history['question-5'].history['val_loss'])\n",
        "plt.title('model loss')\n",
        "plt.ylabel('loss')\n",
        "plt.xlabel('epoch')\n",
        "plt.legend(['train', 'test'], loc='upper left')\n",
        "plt.show()\n",
        "\n"
      ],
      "execution_count": null,
      "outputs": []
    },
    {
      "cell_type": "code",
      "metadata": {
        "id": "Ae3EPiyh2-02"
      },
      "source": [
        ""
      ],
      "execution_count": null,
      "outputs": []
    }
  ]
}